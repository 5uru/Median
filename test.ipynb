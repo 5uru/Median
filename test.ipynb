{
 "cells": [
  {
   "cell_type": "code",
   "execution_count": 1,
   "id": "initial_id",
   "metadata": {
    "collapsed": true,
    "ExecuteTime": {
     "end_time": "2024-03-25T20:02:09.385472Z",
     "start_time": "2024-03-25T20:02:09.163314Z"
    }
   },
   "outputs": [],
   "source": [
    "from median.file_reader import read_pdf\n",
    "\n",
    "content = read_pdf('2023.pdf')"
   ]
  },
  {
   "cell_type": "code",
   "outputs": [
    {
     "name": "stderr",
     "output_type": "stream",
     "text": [
      "2024-03-25:21:02:17,057 INFO     [validator.py:24] JSON schema: {'$defs': {'Quiz': {'properties': {'question': {'title': 'Question', 'type': 'string'}, 'answer': {'title': 'Answer', 'type': 'string'}}, 'required': ['question', 'answer'], 'title': 'Quiz', 'type': 'object'}}, 'properties': {'collection': {'items': {'$ref': '#/$defs/Quiz'}, 'title': 'Collection', 'type': 'array'}}, 'required': ['collection'], 'title': 'QuizCollection', 'type': 'object'}\n",
      "2024-03-25:21:02:17,256 INFO     [generate_quizz.py:10] Language detected: fr\n",
      "2024-03-25:21:02:17,725 INFO     [utils.py:48] Loaded SpaCy model: fr_core_news_sm\n",
      "2024-03-25:21:02:19,573 INFO     [utils.py:67] Key phrases: [('droit', 0.07351322897981838), ('règles', 0.03207017924906284), ('loi', 0.021097321724660948), ('juge', 0.020685953933854417), ('cours', 0.017673729063776424)]\n",
      "2024-03-25:21:02:19,575 INFO     [generate_quizz.py:12] Key phrases: ['droit', 'règles', 'loi', 'juge', 'cours']\n",
      "2024-03-25:21:02:20,587 INFO     [utils.py:107] Split documents into 13 chunks\n",
      "2024-03-25:21:02:20,588 INFO     [utils.py:115] Removed duplicates\n",
      "2024-03-25:21:02:20,589 INFO     [generate_quizz.py:22] Generating quiz for: 1 \n",
      " UNIVERSITE DE STRASBOURG                                   FACULTE DE DROIT, DE SCIENCES \n",
      "POLITIQUES ET DE GESTION  \n",
      " \n",
      " \n",
      "     Année universitaire 2023 -24 \n",
      "        \n",
      " \n",
      "CAPACITE EN DROIT  \n",
      "BLOC DE COMPETENCE 1  \n",
      " \n",
      "COURS D’INTRODUCTION AU DROIT  \n",
      "LE DROIT OBJECTIF  \n",
      " \n",
      " \n",
      " \n",
      "Mme Rzepecki  \n",
      " \n",
      " \n",
      "Séance 1 \n",
      "Introduction à l’étude du droit  \n",
      " \n",
      " \n",
      "Lexiques juridiques  : \n",
      "S. Guichard et Th. Debard (sous la direction de), Lexique des termes juridiques, Dalloz  \n",
      "H. Roland, Lexique juridique, Expressions latines, Litec  \n",
      " \n",
      "Manuels  : \n",
      "J.-L. Aubert et E. Savaux, Introduction au droit et thèmes fondam entaux du droit civil, Sirey, 19ème éd., \n",
      "2023  \n",
      "Ph. Malaurie et P. Morvan, Introduction au droit, LGDJ, 9ème éd., 2022  \n",
      "B. Beignier, J.-R. Binet  et A. -L. Thomat -Raynaud, Introduction au droit, LGDJ, 8ème éd., 2022  \n",
      "S. Druffin -Bricca et L. -C. Henry, Introduction générale au droit, Mémentos LMD, Gualino, 1 7ème éd., \n",
      "2023  \n",
      "Ph. Malinvaud et N. Balat, Introduction à l’étude du droit, LexisNexis, 23ème éd., 2023  \n",
      " \n",
      " \n",
      " \n",
      " \n",
      "Chapitre 1er Définition du droit  \n",
      "Le terme «  droit  » a deu x sens. On parle de droit objectif ou de droits subjectifs.  \n",
      "Ces expressions n’existent pas dans la loi. Elles ne sont pas plus utilisées par les tribunaux.  \n",
      "C’est une terminologie purement doctrinale , ce qui signifie qu’elle a été créée et qu’elle est uti lisée \n",
      "par les professeurs de droit .  \n",
      " \n",
      " \n",
      "§1er Distinction entre droit objectif et droits subjectifs  \n",
      " \n",
      "Le droit  est l’organisation rationnelle des rapports entre les hommes, pendant leur vie et pour après \n",
      "la mort. A utrement dit, ce sont l es règles destinées à organiser la vie en société.   \n",
      "Ces règles sont formulées de manière générale et impersonnelle  (elle s s’adressent à tous)  : pour cette \n",
      "raison, on parle du droit objectif (au singulier).  \n",
      "Exemple  : art. 1240 du Code civil ( C. civ. ) : toute faute causant un dommage entraine la responsabilité \n",
      "civile de son auteur ou art. 144  C. civ.  : il faut avoir 18 ans pour contracter mariage…  \n",
      " 2 \n",
      " Mais le mot droit peut encore être utilisé pour désigner les prérogatives individuelles que les \n",
      "personnes aller chercher dans le dr oit objectif : c’est alors de droits subjectifs (au pluriel) qu’il s’agit.  \n",
      "Ce sont toutes les possibilités qui appartiennent aux individus et qui leur sont données par la règle de \n",
      "droit objectif.\n",
      "2024-03-25:21:02:20,590 INFO     [llm_provider.py:69] Generating quiz for: 1 \n",
      " UNIVERSITE DE STRASBOURG                                   FACULTE DE DROIT, DE SCIENCES \n",
      "POLITIQUES ET DE GESTION  \n",
      " \n",
      " \n",
      "     Année universitaire 2023 -24 \n",
      "        \n",
      " \n",
      "CAPACITE EN DROIT  \n",
      "BLOC DE COMPETENCE 1  \n",
      " \n",
      "COURS D’INTRODUCTION AU DROIT  \n",
      "LE DROIT OBJECTIF  \n",
      " \n",
      " \n",
      " \n",
      "Mme Rzepecki  \n",
      " \n",
      " \n",
      "Séance 1 \n",
      "Introduction à l’étude du droit  \n",
      " \n",
      " \n",
      "Lexiques juridiques  : \n",
      "S. Guichard et Th. Debard (sous la direction de), Lexique des termes juridiques, Dalloz  \n",
      "H. Roland, Lexique juridique, Expressions latines, Litec  \n",
      " \n",
      "Manuels  : \n",
      "J.-L. Aubert et E. Savaux, Introduction au droit et thèmes fondam entaux du droit civil, Sirey, 19ème éd., \n",
      "2023  \n",
      "Ph. Malaurie et P. Morvan, Introduction au droit, LGDJ, 9ème éd., 2022  \n",
      "B. Beignier, J.-R. Binet  et A. -L. Thomat -Raynaud, Introduction au droit, LGDJ, 8ème éd., 2022  \n",
      "S. Druffin -Bricca et L. -C. Henry, Introduction générale au droit, Mémentos LMD, Gualino, 1 7ème éd., \n",
      "2023  \n",
      "Ph. Malinvaud et N. Balat, Introduction à l’étude du droit, LexisNexis, 23ème éd., 2023  \n",
      " \n",
      " \n",
      " \n",
      " \n",
      "Chapitre 1er Définition du droit  \n",
      "Le terme «  droit  » a deu x sens. On parle de droit objectif ou de droits subjectifs.  \n",
      "Ces expressions n’existent pas dans la loi. Elles ne sont pas plus utilisées par les tribunaux.  \n",
      "C’est une terminologie purement doctrinale , ce qui signifie qu’elle a été créée et qu’elle est uti lisée \n",
      "par les professeurs de droit .  \n",
      " \n",
      " \n",
      "§1er Distinction entre droit objectif et droits subjectifs  \n",
      " \n",
      "Le droit  est l’organisation rationnelle des rapports entre les hommes, pendant leur vie et pour après \n",
      "la mort. A utrement dit, ce sont l es règles destinées à organiser la vie en société.   \n",
      "Ces règles sont formulées de manière générale et impersonnelle  (elle s s’adressent à tous)  : pour cette \n",
      "raison, on parle du droit objectif (au singulier).  \n",
      "Exemple  : art. 1240 du Code civil ( C. civ. ) : toute faute causant un dommage entraine la responsabilité \n",
      "civile de son auteur ou art. 144  C. civ.  : il faut avoir 18 ans pour contracter mariage…  \n",
      " 2 \n",
      " Mais le mot droit peut encore être utilisé pour désigner les prérogatives individuelles que les \n",
      "personnes aller chercher dans le dr oit objectif : c’est alors de droits subjectifs (au pluriel) qu’il s’agit.  \n",
      "Ce sont toutes les possibilités qui appartiennent aux individus et qui leur sont données par la règle de \n",
      "droit objectif. \n"
     ]
    },
    {
     "data": {
      "text/plain": "Fetching 7 files:   0%|          | 0/7 [00:00<?, ?it/s]",
      "application/vnd.jupyter.widget-view+json": {
       "version_major": 2,
       "version_minor": 0,
       "model_id": "df4ab707cc2a4b6286e7c98564c6d8d5"
      }
     },
     "metadata": {},
     "output_type": "display_data"
    },
    {
     "name": "stderr",
     "output_type": "stream",
     "text": [
      "2024-03-25:21:02:21,029 INFO     [llm_provider.py:18] Loaded model and tokenizer\n"
     ]
    },
    {
     "name": "stdout",
     "output_type": "stream",
     "text": [
      "==========\n",
      "Prompt: \n",
      "     <BOS_TOKEN> <|START_OF_TURN_TOKEN|>\n",
      "<|SYSTEM_TOKEN|> # Safety Preamble\n",
      "The instructions in this section override those in the task description and style guide sections. Don't generate content that is harmful or immoral. Always base the information strictly on the provided corpus; never fabricate data, hallucinate information, or invent content not present in the corpus. If there is no relevant information in the corpus, you should return 'None'.\n",
      "\n",
      "# System Preamble\n",
      "## Basic Rules\n",
      "You are a powerful conversational AI trained to help people by generating a well-structured set of significant and relevant questions and answers strictly based on a provided corpus. Your job is to use the output of these tools to best help the user. Always base the information strictly on the provided corpus; never fabricate data, hallucinate information, or invent content not present in the corpus. If there is no relevant information in the corpus, you should return 'None'.\n",
      "\n",
      "# User Preamble\n",
      "## Task and Context\n",
      "You help people create flashcards by generating a set of questions and answers strictly based on a given corpus. You should prioritize the questions and answers according to their importance within the context of the corpus and the specified themes. The following themes have been identified: DROIT ,RÈGLES ,LOI ,JUGE ,COURS.\n",
      "\n",
      "## Style Guide\n",
      "Generate the output in JSON format, using the 'Quiz' and 'QuizCollection' classes as specified. Ensure that the output is in the same language as FR. The content of the questions and answers must be strictly based on the provided corpus. If there is no relevant information in the corpus, return 'None' for the corresponding field.\n",
      "\n",
      "## Available Tools\n",
      "Here is a list of tools that you have available to you:\n",
      "\n",
      "```python\n",
      "class Quiz(BaseModel):\n",
      "    question: str\n",
      "    answer: str\n",
      "\n",
      "class QuizCollection(BaseModel):\n",
      "    collection: List[Quiz]\n",
      "<|END_OF_TURN_TOKEN|> <|START_OF_TURN_TOKEN|><|USER_TOKEN|>\n",
      "Please generate a well-structured set of significant and relevant questions and answers strictly based on the following corpus:\n",
      "<|im_start|>corpus\n",
      " 1 \n",
      " UNIVERSITE DE STRASBOURG                                   FACULTE DE DROIT, DE SCIENCES \n",
      "POLITIQUES ET DE GESTION  \n",
      " \n",
      " \n",
      "     Année universitaire 2023 -24 \n",
      "        \n",
      " \n",
      "CAPACITE EN DROIT  \n",
      "BLOC DE COMPETENCE 1  \n",
      " \n",
      "COURS D’INTRODUCTION AU DROIT  \n",
      "LE DROIT OBJECTIF  \n",
      " \n",
      " \n",
      " \n",
      "Mme Rzepecki  \n",
      " \n",
      " \n",
      "Séance 1 \n",
      "Introduction à l’étude du droit  \n",
      " \n",
      " \n",
      "Lexiques juridiques  : \n",
      "S. Guichard et Th. Debard (sous la direction de), Lexique des termes juridiques, Dalloz  \n",
      "H. Roland, Lexique juridique, Expressions latines, Litec  \n",
      " \n",
      "Manuels  : \n",
      "J.-L. Aubert et E. Savaux, Introduction au droit et thèmes fondam entaux du droit civil, Sirey, 19ème éd., \n",
      "2023  \n",
      "Ph. Malaurie et P. Morvan, Introduction au droit, LGDJ, 9ème éd., 2022  \n",
      "B. Beignier, J.-R. Binet  et A. -L. Thomat -Raynaud, Introduction au droit, LGDJ, 8ème éd., 2022  \n",
      "S. Druffin -Bricca et L. -C. Henry, Introduction générale au droit, Mémentos LMD, Gualino, 1 7ème éd., \n",
      "2023  \n",
      "Ph. Malinvaud et N. Balat, Introduction à l’étude du droit, LexisNexis, 23ème éd., 2023  \n",
      " \n",
      " \n",
      " \n",
      " \n",
      "Chapitre 1er Définition du droit  \n",
      "Le terme «  droit  » a deu x sens. On parle de droit objectif ou de droits subjectifs.  \n",
      "Ces expressions n’existent pas dans la loi. Elles ne sont pas plus utilisées par les tribunaux.  \n",
      "C’est une terminologie purement doctrinale , ce qui signifie qu’elle a été créée et qu’elle est uti lisée \n",
      "par les professeurs de droit .  \n",
      " \n",
      " \n",
      "§1er Distinction entre droit objectif et droits subjectifs  \n",
      " \n",
      "Le droit  est l’organisation rationnelle des rapports entre les hommes, pendant leur vie et pour après \n",
      "la mort. A utrement dit, ce sont l es règles destinées à organiser la vie en société.   \n",
      "Ces règles sont formulées de manière générale et impersonnelle  (elle s s’adressent à tous)  : pour cette \n",
      "raison, on parle du droit objectif (au singulier).  \n",
      "Exemple  : art. 1240 du Code civil ( C. civ. ) : toute faute causant un dommage entraine la responsabilité \n",
      "civile de son auteur ou art. 144  C. civ.  : il faut avoir 18 ans pour contracter mariage…  \n",
      " 2 \n",
      " Mais le mot droit peut encore être utilisé pour désigner les prérogatives individuelles que les \n",
      "personnes aller chercher dans le dr oit objectif : c’est alors de droits subjectifs (au pluriel) qu’il s’agit.  \n",
      "Ce sont toutes les possibilités qui appartiennent aux individus et qui leur sont données par la règle de \n",
      "droit objectif.\n",
      "<|im_end|>\n",
      "Ensure that the output is in JSON format, in the same language as FR, and adheres to the provided schema.\n",
      "<|END_OF_TURN_TOKEN|> <|START_OF_TURN_TOKEN|><|SYSTEM_TOKEN|>\n",
      "Generate the output in the specified format, basing the output strictly on the provided corpus and the identified themes. If there is no relevant information in the corpus, return 'None' for the corresponding field. Remember to use the following schema for the output:\n",
      "\n",
      "\n",
      "{\n",
      "    \"collection\": [\n",
      "    {\n",
      "    \"question\": \"string\",\n",
      "      \"answer\": \"string\"\n",
      "    }\n",
      "  ]\n",
      "}\n",
      "<|END_OF_TURN_TOKEN|>\n",
      "     \n",
      "{\n",
      "        \"collection\": [\n",
      "          {\n",
      "            \"question\": \"Qu'est ce que le droit objective et subjectif ?\",\n",
      "            \"answer\": \"Le droit objective est une organisation rationnelle des rapports entre les hommes pendant leur vie et après sa mort, formulée de manière générale et impersonnelle. Le droit subjectif, quant à lui, désigne les prérogatives individuelles que chaque personne peut réclamer selon le droit objective.\"\n",
      "          },\n",
      "          {\n",
      "            \"question\": \"Que signifie le terme 'droit' ?\",\n",
      "            \"answer\": \"Le terme 'droit' désigne l'organisation rationnelle des rapports entre les hommes et la société. Il existe deux sens : celui de droit objectif et celui de droits subjectifs.\"\n",
      "          },\n",
      "          {\n",
      "            \"question\": \"Quels manuels sont recommandés pour étudier le droit ?\",\n",
      "            \"answer\": \"There are several recommended manuals for studying law: J.-L. Aubert et E. Savaux, Introduction au droit et thémes fondamentaux du droit civil; Ph. Malaurie et P. Morvan, Introduction au droit; B. Beignier, J.-R. Binet et A.-L. Thomat-Raynaud, Introduction au droit; S. Druffin-Bricca et L.-C. Henry, Introduction générale au droit; and Ph. Malinvaud et N. Balat, Introduction à l’étude du droit.\"\n",
      "          },\n",
      "          {\n",
      "            \"question\": \"Que contient le chapitre 1er sur la définition du droit ?\",\n",
      "            \"answer\": \"The first chapter discusses the definition"
     ]
    }
   ],
   "source": [
    "from median.generate_quizz import quiz\n",
    "\n",
    "quiz(content)"
   ],
   "metadata": {
    "collapsed": false,
    "is_executing": true,
    "ExecuteTime": {
     "start_time": "2024-03-25T20:02:12.778332Z"
    }
   },
   "id": "6ca8ed2775ffc00e",
   "execution_count": null
  },
  {
   "cell_type": "code",
   "outputs": [
    {
     "data": {
      "text/plain": "Fetching 10 files:   0%|          | 0/10 [00:00<?, ?it/s]",
      "application/vnd.jupyter.widget-view+json": {
       "version_major": 2,
       "version_minor": 0,
       "model_id": "22f24f15ce5e430f94620e539161c5e0"
      }
     },
     "metadata": {},
     "output_type": "display_data"
    },
    {
     "data": {
      "text/plain": "special_tokens_map.json:   0%|          | 0.00/784 [00:00<?, ?B/s]",
      "application/vnd.jupyter.widget-view+json": {
       "version_major": 2,
       "version_minor": 0,
       "model_id": "57c9e67961864310accc55b220e668c1"
      }
     },
     "metadata": {},
     "output_type": "display_data"
    },
    {
     "data": {
      "text/plain": "config.json:   0%|          | 0.00/608 [00:00<?, ?B/s]",
      "application/vnd.jupyter.widget-view+json": {
       "version_major": 2,
       "version_minor": 0,
       "model_id": "5305d59541124faaaf6097d97f12f71c"
      }
     },
     "metadata": {},
     "output_type": "display_data"
    },
    {
     "data": {
      "text/plain": "generation_config.json:   0%|          | 0.00/121 [00:00<?, ?B/s]",
      "application/vnd.jupyter.widget-view+json": {
       "version_major": 2,
       "version_minor": 0,
       "model_id": "63da4ed5abbb49a6829c9e3b8c8571e3"
      }
     },
     "metadata": {},
     "output_type": "display_data"
    },
    {
     "data": {
      "text/plain": "configuration_stablelm.py:   0%|          | 0.00/9.07k [00:00<?, ?B/s]",
      "application/vnd.jupyter.widget-view+json": {
       "version_major": 2,
       "version_minor": 0,
       "model_id": "2240ed7ed9cb4688b00fbda3dd6bd326"
      }
     },
     "metadata": {},
     "output_type": "display_data"
    },
    {
     "data": {
      "text/plain": "tokenizer.json:   0%|          | 0.00/4.24M [00:00<?, ?B/s]",
      "application/vnd.jupyter.widget-view+json": {
       "version_major": 2,
       "version_minor": 0,
       "model_id": "9cc918f945234562b7ce8d2fa6b9102d"
      }
     },
     "metadata": {},
     "output_type": "display_data"
    },
    {
     "data": {
      "text/plain": "modeling_stablelm.py:   0%|          | 0.00/63.1k [00:00<?, ?B/s]",
      "application/vnd.jupyter.widget-view+json": {
       "version_major": 2,
       "version_minor": 0,
       "model_id": "d3b8e327dfd14a089f3aebba52ce965a"
      }
     },
     "metadata": {},
     "output_type": "display_data"
    },
    {
     "data": {
      "text/plain": "merges.txt:   0%|          | 0.00/917k [00:00<?, ?B/s]",
      "application/vnd.jupyter.widget-view+json": {
       "version_major": 2,
       "version_minor": 0,
       "model_id": "a5791885a4ce4a74aa54c369b741b46c"
      }
     },
     "metadata": {},
     "output_type": "display_data"
    },
    {
     "data": {
      "text/plain": "tokenizer_config.json:   0%|          | 0.00/891 [00:00<?, ?B/s]",
      "application/vnd.jupyter.widget-view+json": {
       "version_major": 2,
       "version_minor": 0,
       "model_id": "cbc2573d526a439f8851104943b4c197"
      }
     },
     "metadata": {},
     "output_type": "display_data"
    },
    {
     "data": {
      "text/plain": "vocab.json:   0%|          | 0.00/2.01M [00:00<?, ?B/s]",
      "application/vnd.jupyter.widget-view+json": {
       "version_major": 2,
       "version_minor": 0,
       "model_id": "f033e03c52e84a49810bbdbc94262082"
      }
     },
     "metadata": {},
     "output_type": "display_data"
    },
    {
     "data": {
      "text/plain": "model.safetensors:   0%|          | 0.00/3.29G [00:00<?, ?B/s]",
      "application/vnd.jupyter.widget-view+json": {
       "version_major": 2,
       "version_minor": 0,
       "model_id": "062289eb993b42549b20fa356402d2ea"
      }
     },
     "metadata": {},
     "output_type": "display_data"
    },
    {
     "name": "stderr",
     "output_type": "stream",
     "text": [
      "Error while downloading from https://cdn-lfs-us-1.huggingface.co/repos/c2/ec/c2ec41bfc4ecf190fbf01295a91a3eef6afc2009bc4809357eac30032d5bf963/8bdf317e2b35ab5c8009cbb6c7ce495e4e608a6b9b843d44054edf25b8c5860d?response-content-disposition=attachment%3B+filename*%3DUTF-8%27%27model.safetensors%3B+filename%3D%22model.safetensors%22%3B&Expires=1711814549&Policy=eyJTdGF0ZW1lbnQiOlt7IkNvbmRpdGlvbiI6eyJEYXRlTGVzc1RoYW4iOnsiQVdTOkVwb2NoVGltZSI6MTcxMTgxNDU0OX19LCJSZXNvdXJjZSI6Imh0dHBzOi8vY2RuLWxmcy11cy0xLmh1Z2dpbmdmYWNlLmNvL3JlcG9zL2MyL2VjL2MyZWM0MWJmYzRlY2YxOTBmYmYwMTI5NWE5MWEzZWVmNmFmYzIwMDliYzQ4MDkzNTdlYWMzMDAzMmQ1YmY5NjMvOGJkZjMxN2UyYjM1YWI1YzgwMDljYmI2YzdjZTQ5NWU0ZTYwOGE2YjliODQzZDQ0MDU0ZWRmMjViOGM1ODYwZD9yZXNwb25zZS1jb250ZW50LWRpc3Bvc2l0aW9uPSoifV19&Signature=YISHX7CBXEO5WhKi3ivYaZz8ggp6WxJs8Taw4OmxxGk7IPuHHuuUGEeBA7clYiMRyOcTX0Iz0a3grbw3p%7ElG230YTTo1LZ%7EEY62djEXsX9UlDZL-ucgj39maTkZQPIeHjOCfsCX0a6u5buqFEdL-SM5fCVCOo3MuZgfUIVm04OJca587MIJnYeRUo6-9WPbVLt0k0q95Q%7Ec5kXxBHY4sxlngXdn2VL3MGRdzdM57FqqmhLDV-LCLaP2zpfYA8u9w1Hz0d5IFjhM3POl74O8g4quF%7EG9sG9riEXNuWMHFUiV4dWg-atya2Zgg2%7ESzT6CFVFyzTDNshtSnqBYK0qfLaA__&Key-Pair-Id=KCD77M1F0VK2B: HTTPSConnectionPool(host='cdn-lfs-us-1.huggingface.co', port=443): Read timed out.\n",
      "Trying to resume download...\n"
     ]
    },
    {
     "data": {
      "text/plain": "model.safetensors:  12%|#2        | 398M/3.29G [00:00<?, ?B/s]",
      "application/vnd.jupyter.widget-view+json": {
       "version_major": 2,
       "version_minor": 0,
       "model_id": "85804d2e06e843c6afb46ae65f7bb8bc"
      }
     },
     "metadata": {},
     "output_type": "display_data"
    }
   ],
   "source": [
    "from mlx_lm import load , generate\n",
    "\n",
    "model , tokenizer = load(\"stabilityai/stablelm-2-1_6b\")\n",
    "response = generate(model , tokenizer , prompt=\"hello\" , verbose=True)\n"
   ],
   "metadata": {
    "collapsed": false,
    "is_executing": true,
    "ExecuteTime": {
     "start_time": "2024-03-27T16:02:26.818771Z"
    }
   },
   "id": "3e909981fa1d371",
   "execution_count": null
  },
  {
   "cell_type": "code",
   "outputs": [
    {
     "data": {
      "text/plain": "model.safetensors:   0%|          | 0.00/3.29G [00:00<?, ?B/s]",
      "application/vnd.jupyter.widget-view+json": {
       "version_major": 2,
       "version_minor": 0,
       "model_id": "f73a90c3dc304c17bec2f0c17c6c4c6e"
      }
     },
     "metadata": {},
     "output_type": "display_data"
    },
    {
     "ename": "AssertionError",
     "evalue": "Torch not compiled with CUDA enabled",
     "output_type": "error",
     "traceback": [
      "\u001B[0;31m---------------------------------------------------------------------------\u001B[0m",
      "\u001B[0;31mAssertionError\u001B[0m                            Traceback (most recent call last)",
      "Cell \u001B[0;32mIn[1], line 7\u001B[0m\n\u001B[1;32m      2\u001B[0m tokenizer \u001B[38;5;241m=\u001B[39m AutoTokenizer\u001B[38;5;241m.\u001B[39mfrom_pretrained(\u001B[38;5;124m\"\u001B[39m\u001B[38;5;124mstabilityai/stablelm-2-1_6b\u001B[39m\u001B[38;5;124m\"\u001B[39m)\n\u001B[1;32m      3\u001B[0m model \u001B[38;5;241m=\u001B[39m AutoModelForCausalLM\u001B[38;5;241m.\u001B[39mfrom_pretrained(\n\u001B[1;32m      4\u001B[0m         \u001B[38;5;124m\"\u001B[39m\u001B[38;5;124mstabilityai/stablelm-2-1_6b\u001B[39m\u001B[38;5;124m\"\u001B[39m,\n\u001B[1;32m      5\u001B[0m         torch_dtype\u001B[38;5;241m=\u001B[39m\u001B[38;5;124m\"\u001B[39m\u001B[38;5;124mauto\u001B[39m\u001B[38;5;124m\"\u001B[39m,\n\u001B[1;32m      6\u001B[0m )\n\u001B[0;32m----> 7\u001B[0m model\u001B[38;5;241m.\u001B[39mcuda()\n\u001B[1;32m      8\u001B[0m inputs \u001B[38;5;241m=\u001B[39m tokenizer(\u001B[38;5;124m\"\u001B[39m\u001B[38;5;124mThe weather is always wonderful\u001B[39m\u001B[38;5;124m\"\u001B[39m, return_tensors\u001B[38;5;241m=\u001B[39m\u001B[38;5;124m\"\u001B[39m\u001B[38;5;124mpt\u001B[39m\u001B[38;5;124m\"\u001B[39m)\u001B[38;5;241m.\u001B[39mto(model\u001B[38;5;241m.\u001B[39mdevice)\n\u001B[1;32m      9\u001B[0m tokens \u001B[38;5;241m=\u001B[39m model\u001B[38;5;241m.\u001B[39mgenerate(\n\u001B[1;32m     10\u001B[0m         \u001B[38;5;241m*\u001B[39m\u001B[38;5;241m*\u001B[39minputs,\n\u001B[1;32m     11\u001B[0m         max_new_tokens\u001B[38;5;241m=\u001B[39m\u001B[38;5;241m64\u001B[39m,\n\u001B[0;32m   (...)\u001B[0m\n\u001B[1;32m     14\u001B[0m         do_sample\u001B[38;5;241m=\u001B[39m\u001B[38;5;28;01mTrue\u001B[39;00m,\n\u001B[1;32m     15\u001B[0m )\n",
      "File \u001B[0;32m~/anaconda3/envs/Median/lib/python3.11/site-packages/transformers/modeling_utils.py:2548\u001B[0m, in \u001B[0;36mPreTrainedModel.cuda\u001B[0;34m(self, *args, **kwargs)\u001B[0m\n\u001B[1;32m   2543\u001B[0m     \u001B[38;5;28;01mraise\u001B[39;00m \u001B[38;5;167;01mValueError\u001B[39;00m(\n\u001B[1;32m   2544\u001B[0m         \u001B[38;5;124m\"\u001B[39m\u001B[38;5;124mCalling `cuda()` is not supported for `4-bit` or `8-bit` quantized models. Please use the model as it is, since the\u001B[39m\u001B[38;5;124m\"\u001B[39m\n\u001B[1;32m   2545\u001B[0m         \u001B[38;5;124m\"\u001B[39m\u001B[38;5;124m model has already been set to the correct devices and casted to the correct `dtype`.\u001B[39m\u001B[38;5;124m\"\u001B[39m\n\u001B[1;32m   2546\u001B[0m     )\n\u001B[1;32m   2547\u001B[0m \u001B[38;5;28;01melse\u001B[39;00m:\n\u001B[0;32m-> 2548\u001B[0m     \u001B[38;5;28;01mreturn\u001B[39;00m \u001B[38;5;28msuper\u001B[39m()\u001B[38;5;241m.\u001B[39mcuda(\u001B[38;5;241m*\u001B[39margs, \u001B[38;5;241m*\u001B[39m\u001B[38;5;241m*\u001B[39mkwargs)\n",
      "File \u001B[0;32m~/anaconda3/envs/Median/lib/python3.11/site-packages/torch/nn/modules/module.py:911\u001B[0m, in \u001B[0;36mModule.cuda\u001B[0;34m(self, device)\u001B[0m\n\u001B[1;32m    894\u001B[0m \u001B[38;5;28;01mdef\u001B[39;00m \u001B[38;5;21mcuda\u001B[39m(\u001B[38;5;28mself\u001B[39m: T, device: Optional[Union[\u001B[38;5;28mint\u001B[39m, device]] \u001B[38;5;241m=\u001B[39m \u001B[38;5;28;01mNone\u001B[39;00m) \u001B[38;5;241m-\u001B[39m\u001B[38;5;241m>\u001B[39m T:\n\u001B[1;32m    895\u001B[0m \u001B[38;5;250m    \u001B[39m\u001B[38;5;124mr\u001B[39m\u001B[38;5;124;03m\"\"\"Move all model parameters and buffers to the GPU.\u001B[39;00m\n\u001B[1;32m    896\u001B[0m \n\u001B[1;32m    897\u001B[0m \u001B[38;5;124;03m    This also makes associated parameters and buffers different objects. So\u001B[39;00m\n\u001B[0;32m   (...)\u001B[0m\n\u001B[1;32m    909\u001B[0m \u001B[38;5;124;03m        Module: self\u001B[39;00m\n\u001B[1;32m    910\u001B[0m \u001B[38;5;124;03m    \"\"\"\u001B[39;00m\n\u001B[0;32m--> 911\u001B[0m     \u001B[38;5;28;01mreturn\u001B[39;00m \u001B[38;5;28mself\u001B[39m\u001B[38;5;241m.\u001B[39m_apply(\u001B[38;5;28;01mlambda\u001B[39;00m t: t\u001B[38;5;241m.\u001B[39mcuda(device))\n",
      "File \u001B[0;32m~/anaconda3/envs/Median/lib/python3.11/site-packages/torch/nn/modules/module.py:802\u001B[0m, in \u001B[0;36mModule._apply\u001B[0;34m(self, fn, recurse)\u001B[0m\n\u001B[1;32m    800\u001B[0m \u001B[38;5;28;01mif\u001B[39;00m recurse:\n\u001B[1;32m    801\u001B[0m     \u001B[38;5;28;01mfor\u001B[39;00m module \u001B[38;5;129;01min\u001B[39;00m \u001B[38;5;28mself\u001B[39m\u001B[38;5;241m.\u001B[39mchildren():\n\u001B[0;32m--> 802\u001B[0m         module\u001B[38;5;241m.\u001B[39m_apply(fn)\n\u001B[1;32m    804\u001B[0m \u001B[38;5;28;01mdef\u001B[39;00m \u001B[38;5;21mcompute_should_use_set_data\u001B[39m(tensor, tensor_applied):\n\u001B[1;32m    805\u001B[0m     \u001B[38;5;28;01mif\u001B[39;00m torch\u001B[38;5;241m.\u001B[39m_has_compatible_shallow_copy_type(tensor, tensor_applied):\n\u001B[1;32m    806\u001B[0m         \u001B[38;5;66;03m# If the new tensor has compatible tensor type as the existing tensor,\u001B[39;00m\n\u001B[1;32m    807\u001B[0m         \u001B[38;5;66;03m# the current behavior is to change the tensor in-place using `.data =`,\u001B[39;00m\n\u001B[0;32m   (...)\u001B[0m\n\u001B[1;32m    812\u001B[0m         \u001B[38;5;66;03m# global flag to let the user control whether they want the future\u001B[39;00m\n\u001B[1;32m    813\u001B[0m         \u001B[38;5;66;03m# behavior of overwriting the existing tensor or not.\u001B[39;00m\n",
      "File \u001B[0;32m~/anaconda3/envs/Median/lib/python3.11/site-packages/torch/nn/modules/module.py:802\u001B[0m, in \u001B[0;36mModule._apply\u001B[0;34m(self, fn, recurse)\u001B[0m\n\u001B[1;32m    800\u001B[0m \u001B[38;5;28;01mif\u001B[39;00m recurse:\n\u001B[1;32m    801\u001B[0m     \u001B[38;5;28;01mfor\u001B[39;00m module \u001B[38;5;129;01min\u001B[39;00m \u001B[38;5;28mself\u001B[39m\u001B[38;5;241m.\u001B[39mchildren():\n\u001B[0;32m--> 802\u001B[0m         module\u001B[38;5;241m.\u001B[39m_apply(fn)\n\u001B[1;32m    804\u001B[0m \u001B[38;5;28;01mdef\u001B[39;00m \u001B[38;5;21mcompute_should_use_set_data\u001B[39m(tensor, tensor_applied):\n\u001B[1;32m    805\u001B[0m     \u001B[38;5;28;01mif\u001B[39;00m torch\u001B[38;5;241m.\u001B[39m_has_compatible_shallow_copy_type(tensor, tensor_applied):\n\u001B[1;32m    806\u001B[0m         \u001B[38;5;66;03m# If the new tensor has compatible tensor type as the existing tensor,\u001B[39;00m\n\u001B[1;32m    807\u001B[0m         \u001B[38;5;66;03m# the current behavior is to change the tensor in-place using `.data =`,\u001B[39;00m\n\u001B[0;32m   (...)\u001B[0m\n\u001B[1;32m    812\u001B[0m         \u001B[38;5;66;03m# global flag to let the user control whether they want the future\u001B[39;00m\n\u001B[1;32m    813\u001B[0m         \u001B[38;5;66;03m# behavior of overwriting the existing tensor or not.\u001B[39;00m\n",
      "File \u001B[0;32m~/anaconda3/envs/Median/lib/python3.11/site-packages/torch/nn/modules/module.py:825\u001B[0m, in \u001B[0;36mModule._apply\u001B[0;34m(self, fn, recurse)\u001B[0m\n\u001B[1;32m    821\u001B[0m \u001B[38;5;66;03m# Tensors stored in modules are graph leaves, and we don't want to\u001B[39;00m\n\u001B[1;32m    822\u001B[0m \u001B[38;5;66;03m# track autograd history of `param_applied`, so we have to use\u001B[39;00m\n\u001B[1;32m    823\u001B[0m \u001B[38;5;66;03m# `with torch.no_grad():`\u001B[39;00m\n\u001B[1;32m    824\u001B[0m \u001B[38;5;28;01mwith\u001B[39;00m torch\u001B[38;5;241m.\u001B[39mno_grad():\n\u001B[0;32m--> 825\u001B[0m     param_applied \u001B[38;5;241m=\u001B[39m fn(param)\n\u001B[1;32m    826\u001B[0m should_use_set_data \u001B[38;5;241m=\u001B[39m compute_should_use_set_data(param, param_applied)\n\u001B[1;32m    827\u001B[0m \u001B[38;5;28;01mif\u001B[39;00m should_use_set_data:\n",
      "File \u001B[0;32m~/anaconda3/envs/Median/lib/python3.11/site-packages/torch/nn/modules/module.py:911\u001B[0m, in \u001B[0;36mModule.cuda.<locals>.<lambda>\u001B[0;34m(t)\u001B[0m\n\u001B[1;32m    894\u001B[0m \u001B[38;5;28;01mdef\u001B[39;00m \u001B[38;5;21mcuda\u001B[39m(\u001B[38;5;28mself\u001B[39m: T, device: Optional[Union[\u001B[38;5;28mint\u001B[39m, device]] \u001B[38;5;241m=\u001B[39m \u001B[38;5;28;01mNone\u001B[39;00m) \u001B[38;5;241m-\u001B[39m\u001B[38;5;241m>\u001B[39m T:\n\u001B[1;32m    895\u001B[0m \u001B[38;5;250m    \u001B[39m\u001B[38;5;124mr\u001B[39m\u001B[38;5;124;03m\"\"\"Move all model parameters and buffers to the GPU.\u001B[39;00m\n\u001B[1;32m    896\u001B[0m \n\u001B[1;32m    897\u001B[0m \u001B[38;5;124;03m    This also makes associated parameters and buffers different objects. So\u001B[39;00m\n\u001B[0;32m   (...)\u001B[0m\n\u001B[1;32m    909\u001B[0m \u001B[38;5;124;03m        Module: self\u001B[39;00m\n\u001B[1;32m    910\u001B[0m \u001B[38;5;124;03m    \"\"\"\u001B[39;00m\n\u001B[0;32m--> 911\u001B[0m     \u001B[38;5;28;01mreturn\u001B[39;00m \u001B[38;5;28mself\u001B[39m\u001B[38;5;241m.\u001B[39m_apply(\u001B[38;5;28;01mlambda\u001B[39;00m t: t\u001B[38;5;241m.\u001B[39mcuda(device))\n",
      "File \u001B[0;32m~/anaconda3/envs/Median/lib/python3.11/site-packages/torch/cuda/__init__.py:293\u001B[0m, in \u001B[0;36m_lazy_init\u001B[0;34m()\u001B[0m\n\u001B[1;32m    288\u001B[0m     \u001B[38;5;28;01mraise\u001B[39;00m \u001B[38;5;167;01mRuntimeError\u001B[39;00m(\n\u001B[1;32m    289\u001B[0m         \u001B[38;5;124m\"\u001B[39m\u001B[38;5;124mCannot re-initialize CUDA in forked subprocess. To use CUDA with \u001B[39m\u001B[38;5;124m\"\u001B[39m\n\u001B[1;32m    290\u001B[0m         \u001B[38;5;124m\"\u001B[39m\u001B[38;5;124mmultiprocessing, you must use the \u001B[39m\u001B[38;5;124m'\u001B[39m\u001B[38;5;124mspawn\u001B[39m\u001B[38;5;124m'\u001B[39m\u001B[38;5;124m start method\u001B[39m\u001B[38;5;124m\"\u001B[39m\n\u001B[1;32m    291\u001B[0m     )\n\u001B[1;32m    292\u001B[0m \u001B[38;5;28;01mif\u001B[39;00m \u001B[38;5;129;01mnot\u001B[39;00m \u001B[38;5;28mhasattr\u001B[39m(torch\u001B[38;5;241m.\u001B[39m_C, \u001B[38;5;124m\"\u001B[39m\u001B[38;5;124m_cuda_getDeviceCount\u001B[39m\u001B[38;5;124m\"\u001B[39m):\n\u001B[0;32m--> 293\u001B[0m     \u001B[38;5;28;01mraise\u001B[39;00m \u001B[38;5;167;01mAssertionError\u001B[39;00m(\u001B[38;5;124m\"\u001B[39m\u001B[38;5;124mTorch not compiled with CUDA enabled\u001B[39m\u001B[38;5;124m\"\u001B[39m)\n\u001B[1;32m    294\u001B[0m \u001B[38;5;28;01mif\u001B[39;00m _cudart \u001B[38;5;129;01mis\u001B[39;00m \u001B[38;5;28;01mNone\u001B[39;00m:\n\u001B[1;32m    295\u001B[0m     \u001B[38;5;28;01mraise\u001B[39;00m \u001B[38;5;167;01mAssertionError\u001B[39;00m(\n\u001B[1;32m    296\u001B[0m         \u001B[38;5;124m\"\u001B[39m\u001B[38;5;124mlibcudart functions unavailable. It looks like you have a broken build?\u001B[39m\u001B[38;5;124m\"\u001B[39m\n\u001B[1;32m    297\u001B[0m     )\n",
      "\u001B[0;31mAssertionError\u001B[0m: Torch not compiled with CUDA enabled"
     ]
    }
   ],
   "source": [
    "from transformers import AutoModelForCausalLM , AutoTokenizer\n",
    "\n",
    "tokenizer = AutoTokenizer.from_pretrained(\"stabilityai/stablelm-2-1_6b\")\n",
    "model = AutoModelForCausalLM.from_pretrained(\n",
    "        \"stabilityai/stablelm-2-1_6b\" ,\n",
    "        torch_dtype=\"auto\" ,\n",
    ")\n",
    "model.cuda( )\n",
    "inputs = tokenizer(\"The weather is always wonderful\" , return_tensors=\"pt\").to(model.device)\n",
    "tokens = model.generate(\n",
    "        **inputs ,\n",
    "        max_new_tokens=64 ,\n",
    "        temperature=0.70 ,\n",
    "        top_p=0.95 ,\n",
    "        do_sample=True ,\n",
    ")\n",
    "print(tokenizer.decode(tokens[ 0 ] , skip_special_tokens=True))\n"
   ],
   "metadata": {
    "collapsed": false,
    "ExecuteTime": {
     "end_time": "2024-03-27T19:29:26.388529Z",
     "start_time": "2024-03-27T18:53:19.644461Z"
    }
   },
   "id": "4eba4b29e1a00d38",
   "execution_count": 1
  },
  {
   "cell_type": "code",
   "outputs": [
    {
     "name": "stdout",
     "output_type": "stream",
     "text": [
      "[INFO] Loading\n"
     ]
    },
    {
     "data": {
      "text/plain": "Fetching 10 files:   0%|          | 0/10 [00:00<?, ?it/s]",
      "application/vnd.jupyter.widget-view+json": {
       "version_major": 2,
       "version_minor": 0,
       "model_id": "62bc1653ec854b10b97ad463e85ac436"
      }
     },
     "metadata": {},
     "output_type": "display_data"
    },
    {
     "name": "stdout",
     "output_type": "stream",
     "text": [
      "[INFO] Quantizing\n"
     ]
    },
    {
     "data": {
      "text/plain": "README.md:   0%|          | 0.00/7.12k [00:00<?, ?B/s]",
      "application/vnd.jupyter.widget-view+json": {
       "version_major": 2,
       "version_minor": 0,
       "model_id": "5005d811922a44b49cd3c627c64e4987"
      }
     },
     "metadata": {},
     "output_type": "display_data"
    },
    {
     "data": {
      "text/plain": "model.safetensors:   0%|          | 0.00/1.22G [00:00<?, ?B/s]",
      "application/vnd.jupyter.widget-view+json": {
       "version_major": 2,
       "version_minor": 0,
       "model_id": "1bbabeb67d87457289efd7f86dea9585"
      }
     },
     "metadata": {},
     "output_type": "display_data"
    },
    {
     "name": "stdout",
     "output_type": "stream",
     "text": [
      "Upload successful, go to https://huggingface.co/jonathansuru/stablelm-2-1_6b-4bit for details.\n"
     ]
    }
   ],
   "source": [
    "from mlx_lm import convert\n",
    "\n",
    "upload_repo = \"jonathansuru/stablelm-2-1_6b-4bit\"\n",
    "\n",
    "convert(\"stabilityai/stablelm-2-1_6b\" , quantize=True , upload_repo=upload_repo)"
   ],
   "metadata": {
    "collapsed": false,
    "ExecuteTime": {
     "end_time": "2024-03-27T20:05:26.246572Z",
     "start_time": "2024-03-27T19:29:43.589133Z"
    }
   },
   "id": "f1fbe5a5aeee1c1c",
   "execution_count": 2
  },
  {
   "cell_type": "code",
   "outputs": [
    {
     "data": {
      "text/plain": "Fetching 7 files:   0%|          | 0/7 [00:00<?, ?it/s]",
      "application/vnd.jupyter.widget-view+json": {
       "version_major": 2,
       "version_minor": 0,
       "model_id": "b8a21cda3ef747e9952af207a56fae5b"
      }
     },
     "metadata": {},
     "output_type": "display_data"
    },
    {
     "name": "stdout",
     "output_type": "stream",
     "text": [
      "==========\n",
      "Prompt: hello\n",
      ",\n",
      "I'm trying to use the \"grep\" command to search for a specific string in a file, but I'm getting an error message that says \"grep: invalid option -- z\". I'm using the zsh shell, and I'm not sure what the \"z\" option is or why it's causing an error.\n",
      "Here's the command I'm using:\n",
      "```\n",
      "grep -i \"string_to_\n",
      "==========\n",
      "Prompt: 5.234 tokens-per-sec\n",
      "Generation: 16.734 tokens-per-sec\n"
     ]
    }
   ],
   "source": [
    "from mlx_lm import load , generate\n",
    "\n",
    "model , tokenizer = load(\"mlx-community/Mistral-7B-Instruct-v0.2-4bit\")\n",
    "response = generate(model , tokenizer , prompt=\"hello\" , verbose=True)\n"
   ],
   "metadata": {
    "collapsed": false,
    "ExecuteTime": {
     "end_time": "2024-03-28T10:59:32.523874Z",
     "start_time": "2024-03-28T10:59:20.510485Z"
    }
   },
   "id": "eb9a765ec0ec44f0",
   "execution_count": 13
  },
  {
   "cell_type": "code",
   "outputs": [],
   "source": [],
   "metadata": {
    "collapsed": false
   },
   "id": "4bd32e0a3a45191c"
  }
 ],
 "metadata": {
  "kernelspec": {
   "display_name": "Python 3",
   "language": "python",
   "name": "python3"
  },
  "language_info": {
   "codemirror_mode": {
    "name": "ipython",
    "version": 2
   },
   "file_extension": ".py",
   "mimetype": "text/x-python",
   "name": "python",
   "nbconvert_exporter": "python",
   "pygments_lexer": "ipython2",
   "version": "2.7.6"
  }
 },
 "nbformat": 4,
 "nbformat_minor": 5
}
